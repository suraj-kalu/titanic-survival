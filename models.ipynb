{
 "cells": [
  {
   "cell_type": "code",
   "execution_count": 1,
   "id": "7d6ce03f-39ae-4542-be01-5a021599d995",
   "metadata": {
    "tags": []
   },
   "outputs": [],
   "source": [
    "# import all required libraries\n",
    "\n",
    "import pandas as pd\n",
    "import matplotlib.pyplot as plt\n",
    "from sklearn.model_selection import train_test_split, GridSearchCV\n",
    "from sklearn.linear_model import LogisticRegression\n",
    "from sklearn.preprocessing import StandardScaler\n",
    "from sklearn.metrics import recall_score, accuracy_score, confusion_matrix\n",
    "from sklearn.ensemble import RandomForestClassifier\n",
    "\n",
    "from tensorflow.keras.models import Sequential\n",
    "from tensorflow.keras.layers import Dense, Dropout\n",
    "from tensorflow.keras.optimizers import Adam"
   ]
  },
  {
   "cell_type": "code",
   "execution_count": 2,
   "id": "cd3074b9-8cc8-493b-88ea-9d44728d83b0",
   "metadata": {
    "tags": []
   },
   "outputs": [],
   "source": [
    "# read the dataset\n",
    "df_main = pd.read_csv(\"titanic.csv\")\n",
    "# create a copy of the main dataframe\n",
    "df = df_main.copy()"
   ]
  },
  {
   "cell_type": "markdown",
   "id": "47214548-5601-45fe-bf74-cb9948cd9d5f",
   "metadata": {},
   "source": [
    "### Explore dataset"
   ]
  },
  {
   "cell_type": "code",
   "execution_count": 3,
   "id": "4a93d180-b7b9-4845-a614-3caad9625ee9",
   "metadata": {
    "tags": []
   },
   "outputs": [
    {
     "name": "stdout",
     "output_type": "stream",
     "text": [
      "<class 'pandas.core.frame.DataFrame'>\n",
      "RangeIndex: 887 entries, 0 to 886\n",
      "Data columns (total 8 columns):\n",
      " #   Column                   Non-Null Count  Dtype  \n",
      "---  ------                   --------------  -----  \n",
      " 0   Survived                 887 non-null    int64  \n",
      " 1   Pclass                   887 non-null    int64  \n",
      " 2   Name                     887 non-null    object \n",
      " 3   Sex                      887 non-null    object \n",
      " 4   Age                      887 non-null    float64\n",
      " 5   Siblings/Spouses Aboard  887 non-null    int64  \n",
      " 6   Parents/Children Aboard  887 non-null    int64  \n",
      " 7   Fare                     887 non-null    float64\n",
      "dtypes: float64(2), int64(4), object(2)\n",
      "memory usage: 55.6+ KB\n"
     ]
    }
   ],
   "source": [
    "df.info()"
   ]
  },
  {
   "cell_type": "markdown",
   "id": "f408ad25-df7d-4735-b2d4-5a296ea7dc77",
   "metadata": {},
   "source": [
    "- The column names have / and whitespace, so that can be changed\n",
    "- Sex and Name are in object type, so they are probably in string"
   ]
  },
  {
   "cell_type": "code",
   "execution_count": 4,
   "id": "c7824c7d-ed07-4408-940f-b90f04b7f9a3",
   "metadata": {
    "tags": []
   },
   "outputs": [],
   "source": [
    "# Replace the column names i.e replace \"/\" and whitespaces to underscore for easy access of data\n",
    "df.columns = df.columns.map(lambda x: x.replace('/','_').replace(' ', '_'))"
   ]
  },
  {
   "cell_type": "code",
   "execution_count": 5,
   "id": "9cbbf508-c0c3-4ab7-94af-31cd7d85fbb3",
   "metadata": {
    "tags": []
   },
   "outputs": [
    {
     "data": {
      "text/plain": [
       "Index(['Survived', 'Pclass', 'Name', 'Sex', 'Age', 'Siblings_Spouses_Aboard',\n",
       "       'Parents_Children_Aboard', 'Fare'],\n",
       "      dtype='object')"
      ]
     },
     "execution_count": 5,
     "metadata": {},
     "output_type": "execute_result"
    }
   ],
   "source": [
    "df.columns"
   ]
  },
  {
   "cell_type": "code",
   "execution_count": 6,
   "id": "dd63a4ef-7a96-453c-a249-8545fd02c641",
   "metadata": {
    "tags": []
   },
   "outputs": [
    {
     "data": {
      "text/html": [
       "<div>\n",
       "<style scoped>\n",
       "    .dataframe tbody tr th:only-of-type {\n",
       "        vertical-align: middle;\n",
       "    }\n",
       "\n",
       "    .dataframe tbody tr th {\n",
       "        vertical-align: top;\n",
       "    }\n",
       "\n",
       "    .dataframe thead th {\n",
       "        text-align: right;\n",
       "    }\n",
       "</style>\n",
       "<table border=\"1\" class=\"dataframe\">\n",
       "  <thead>\n",
       "    <tr style=\"text-align: right;\">\n",
       "      <th></th>\n",
       "      <th>Survived</th>\n",
       "      <th>Pclass</th>\n",
       "      <th>Name</th>\n",
       "      <th>Sex</th>\n",
       "      <th>Age</th>\n",
       "      <th>Siblings_Spouses_Aboard</th>\n",
       "      <th>Parents_Children_Aboard</th>\n",
       "      <th>Fare</th>\n",
       "    </tr>\n",
       "  </thead>\n",
       "  <tbody>\n",
       "    <tr>\n",
       "      <th>0</th>\n",
       "      <td>0</td>\n",
       "      <td>3</td>\n",
       "      <td>Mr. Owen Harris Braund</td>\n",
       "      <td>male</td>\n",
       "      <td>22.0</td>\n",
       "      <td>1</td>\n",
       "      <td>0</td>\n",
       "      <td>7.2500</td>\n",
       "    </tr>\n",
       "    <tr>\n",
       "      <th>1</th>\n",
       "      <td>1</td>\n",
       "      <td>1</td>\n",
       "      <td>Mrs. John Bradley (Florence Briggs Thayer) Cum...</td>\n",
       "      <td>female</td>\n",
       "      <td>38.0</td>\n",
       "      <td>1</td>\n",
       "      <td>0</td>\n",
       "      <td>71.2833</td>\n",
       "    </tr>\n",
       "    <tr>\n",
       "      <th>2</th>\n",
       "      <td>1</td>\n",
       "      <td>3</td>\n",
       "      <td>Miss. Laina Heikkinen</td>\n",
       "      <td>female</td>\n",
       "      <td>26.0</td>\n",
       "      <td>0</td>\n",
       "      <td>0</td>\n",
       "      <td>7.9250</td>\n",
       "    </tr>\n",
       "    <tr>\n",
       "      <th>3</th>\n",
       "      <td>1</td>\n",
       "      <td>1</td>\n",
       "      <td>Mrs. Jacques Heath (Lily May Peel) Futrelle</td>\n",
       "      <td>female</td>\n",
       "      <td>35.0</td>\n",
       "      <td>1</td>\n",
       "      <td>0</td>\n",
       "      <td>53.1000</td>\n",
       "    </tr>\n",
       "    <tr>\n",
       "      <th>4</th>\n",
       "      <td>0</td>\n",
       "      <td>3</td>\n",
       "      <td>Mr. William Henry Allen</td>\n",
       "      <td>male</td>\n",
       "      <td>35.0</td>\n",
       "      <td>0</td>\n",
       "      <td>0</td>\n",
       "      <td>8.0500</td>\n",
       "    </tr>\n",
       "  </tbody>\n",
       "</table>\n",
       "</div>"
      ],
      "text/plain": [
       "   Survived  Pclass                                               Name  \\\n",
       "0         0       3                             Mr. Owen Harris Braund   \n",
       "1         1       1  Mrs. John Bradley (Florence Briggs Thayer) Cum...   \n",
       "2         1       3                              Miss. Laina Heikkinen   \n",
       "3         1       1        Mrs. Jacques Heath (Lily May Peel) Futrelle   \n",
       "4         0       3                            Mr. William Henry Allen   \n",
       "\n",
       "      Sex   Age  Siblings_Spouses_Aboard  Parents_Children_Aboard     Fare  \n",
       "0    male  22.0                        1                        0   7.2500  \n",
       "1  female  38.0                        1                        0  71.2833  \n",
       "2  female  26.0                        0                        0   7.9250  \n",
       "3  female  35.0                        1                        0  53.1000  \n",
       "4    male  35.0                        0                        0   8.0500  "
      ]
     },
     "execution_count": 6,
     "metadata": {},
     "output_type": "execute_result"
    }
   ],
   "source": [
    "df.head()"
   ]
  },
  {
   "cell_type": "markdown",
   "id": "0ba403ad-d5aa-466f-be12-39c0241cd3b7",
   "metadata": {},
   "source": [
    "Name doesn't contribute anything to the model, so it can be dropped. Sex is a categorial variable so it can be converted to ordinal"
   ]
  },
  {
   "cell_type": "code",
   "execution_count": 7,
   "id": "2357862f-3aad-4064-8876-58b28f513592",
   "metadata": {
    "tags": []
   },
   "outputs": [],
   "source": [
    "df = df.drop(\"Name\", axis = 1)"
   ]
  },
  {
   "cell_type": "code",
   "execution_count": 8,
   "id": "fe7406a5-df70-44f3-bc43-070e8c9086cb",
   "metadata": {
    "tags": []
   },
   "outputs": [
    {
     "data": {
      "text/html": [
       "<div>\n",
       "<style scoped>\n",
       "    .dataframe tbody tr th:only-of-type {\n",
       "        vertical-align: middle;\n",
       "    }\n",
       "\n",
       "    .dataframe tbody tr th {\n",
       "        vertical-align: top;\n",
       "    }\n",
       "\n",
       "    .dataframe thead th {\n",
       "        text-align: right;\n",
       "    }\n",
       "</style>\n",
       "<table border=\"1\" class=\"dataframe\">\n",
       "  <thead>\n",
       "    <tr style=\"text-align: right;\">\n",
       "      <th></th>\n",
       "      <th>Survived</th>\n",
       "      <th>Pclass</th>\n",
       "      <th>Sex</th>\n",
       "      <th>Age</th>\n",
       "      <th>Siblings_Spouses_Aboard</th>\n",
       "      <th>Parents_Children_Aboard</th>\n",
       "      <th>Fare</th>\n",
       "    </tr>\n",
       "  </thead>\n",
       "  <tbody>\n",
       "    <tr>\n",
       "      <th>0</th>\n",
       "      <td>0</td>\n",
       "      <td>3</td>\n",
       "      <td>male</td>\n",
       "      <td>22.0</td>\n",
       "      <td>1</td>\n",
       "      <td>0</td>\n",
       "      <td>7.2500</td>\n",
       "    </tr>\n",
       "    <tr>\n",
       "      <th>1</th>\n",
       "      <td>1</td>\n",
       "      <td>1</td>\n",
       "      <td>female</td>\n",
       "      <td>38.0</td>\n",
       "      <td>1</td>\n",
       "      <td>0</td>\n",
       "      <td>71.2833</td>\n",
       "    </tr>\n",
       "    <tr>\n",
       "      <th>2</th>\n",
       "      <td>1</td>\n",
       "      <td>3</td>\n",
       "      <td>female</td>\n",
       "      <td>26.0</td>\n",
       "      <td>0</td>\n",
       "      <td>0</td>\n",
       "      <td>7.9250</td>\n",
       "    </tr>\n",
       "    <tr>\n",
       "      <th>3</th>\n",
       "      <td>1</td>\n",
       "      <td>1</td>\n",
       "      <td>female</td>\n",
       "      <td>35.0</td>\n",
       "      <td>1</td>\n",
       "      <td>0</td>\n",
       "      <td>53.1000</td>\n",
       "    </tr>\n",
       "    <tr>\n",
       "      <th>4</th>\n",
       "      <td>0</td>\n",
       "      <td>3</td>\n",
       "      <td>male</td>\n",
       "      <td>35.0</td>\n",
       "      <td>0</td>\n",
       "      <td>0</td>\n",
       "      <td>8.0500</td>\n",
       "    </tr>\n",
       "  </tbody>\n",
       "</table>\n",
       "</div>"
      ],
      "text/plain": [
       "   Survived  Pclass     Sex   Age  Siblings_Spouses_Aboard  \\\n",
       "0         0       3    male  22.0                        1   \n",
       "1         1       1  female  38.0                        1   \n",
       "2         1       3  female  26.0                        0   \n",
       "3         1       1  female  35.0                        1   \n",
       "4         0       3    male  35.0                        0   \n",
       "\n",
       "   Parents_Children_Aboard     Fare  \n",
       "0                        0   7.2500  \n",
       "1                        0  71.2833  \n",
       "2                        0   7.9250  \n",
       "3                        0  53.1000  \n",
       "4                        0   8.0500  "
      ]
     },
     "execution_count": 8,
     "metadata": {},
     "output_type": "execute_result"
    }
   ],
   "source": [
    "df.head()"
   ]
  },
  {
   "cell_type": "code",
   "execution_count": 9,
   "id": "b8888181-1ea3-4415-8be3-aaa35a9adbf3",
   "metadata": {
    "tags": []
   },
   "outputs": [],
   "source": [
    "# mapping male to 0 and female to 1\n",
    "df['Sex'] = df['Sex'].map({'male': 0, 'female': 1})"
   ]
  },
  {
   "cell_type": "code",
   "execution_count": 10,
   "id": "601fa8c6-7912-42cc-96bd-276628aa2349",
   "metadata": {
    "tags": []
   },
   "outputs": [
    {
     "data": {
      "text/plain": [
       "0    573\n",
       "1    314\n",
       "Name: Sex, dtype: int64"
      ]
     },
     "execution_count": 10,
     "metadata": {},
     "output_type": "execute_result"
    }
   ],
   "source": [
    "df['Sex'].value_counts()"
   ]
  },
  {
   "cell_type": "code",
   "execution_count": 11,
   "id": "77407100-8a92-4780-b3c6-abf7c934554c",
   "metadata": {
    "tags": []
   },
   "outputs": [
    {
     "data": {
      "text/html": [
       "<div>\n",
       "<style scoped>\n",
       "    .dataframe tbody tr th:only-of-type {\n",
       "        vertical-align: middle;\n",
       "    }\n",
       "\n",
       "    .dataframe tbody tr th {\n",
       "        vertical-align: top;\n",
       "    }\n",
       "\n",
       "    .dataframe thead th {\n",
       "        text-align: right;\n",
       "    }\n",
       "</style>\n",
       "<table border=\"1\" class=\"dataframe\">\n",
       "  <thead>\n",
       "    <tr style=\"text-align: right;\">\n",
       "      <th></th>\n",
       "      <th>Survived</th>\n",
       "      <th>Pclass</th>\n",
       "      <th>Sex</th>\n",
       "      <th>Age</th>\n",
       "      <th>Siblings_Spouses_Aboard</th>\n",
       "      <th>Parents_Children_Aboard</th>\n",
       "      <th>Fare</th>\n",
       "    </tr>\n",
       "  </thead>\n",
       "  <tbody>\n",
       "    <tr>\n",
       "      <th>count</th>\n",
       "      <td>887.000000</td>\n",
       "      <td>887.000000</td>\n",
       "      <td>887.000000</td>\n",
       "      <td>887.000000</td>\n",
       "      <td>887.000000</td>\n",
       "      <td>887.000000</td>\n",
       "      <td>887.00000</td>\n",
       "    </tr>\n",
       "    <tr>\n",
       "      <th>mean</th>\n",
       "      <td>0.385569</td>\n",
       "      <td>2.305524</td>\n",
       "      <td>0.354002</td>\n",
       "      <td>29.471443</td>\n",
       "      <td>0.525366</td>\n",
       "      <td>0.383315</td>\n",
       "      <td>32.30542</td>\n",
       "    </tr>\n",
       "    <tr>\n",
       "      <th>std</th>\n",
       "      <td>0.487004</td>\n",
       "      <td>0.836662</td>\n",
       "      <td>0.478480</td>\n",
       "      <td>14.121908</td>\n",
       "      <td>1.104669</td>\n",
       "      <td>0.807466</td>\n",
       "      <td>49.78204</td>\n",
       "    </tr>\n",
       "    <tr>\n",
       "      <th>min</th>\n",
       "      <td>0.000000</td>\n",
       "      <td>1.000000</td>\n",
       "      <td>0.000000</td>\n",
       "      <td>0.420000</td>\n",
       "      <td>0.000000</td>\n",
       "      <td>0.000000</td>\n",
       "      <td>0.00000</td>\n",
       "    </tr>\n",
       "    <tr>\n",
       "      <th>25%</th>\n",
       "      <td>0.000000</td>\n",
       "      <td>2.000000</td>\n",
       "      <td>0.000000</td>\n",
       "      <td>20.250000</td>\n",
       "      <td>0.000000</td>\n",
       "      <td>0.000000</td>\n",
       "      <td>7.92500</td>\n",
       "    </tr>\n",
       "    <tr>\n",
       "      <th>50%</th>\n",
       "      <td>0.000000</td>\n",
       "      <td>3.000000</td>\n",
       "      <td>0.000000</td>\n",
       "      <td>28.000000</td>\n",
       "      <td>0.000000</td>\n",
       "      <td>0.000000</td>\n",
       "      <td>14.45420</td>\n",
       "    </tr>\n",
       "    <tr>\n",
       "      <th>75%</th>\n",
       "      <td>1.000000</td>\n",
       "      <td>3.000000</td>\n",
       "      <td>1.000000</td>\n",
       "      <td>38.000000</td>\n",
       "      <td>1.000000</td>\n",
       "      <td>0.000000</td>\n",
       "      <td>31.13750</td>\n",
       "    </tr>\n",
       "    <tr>\n",
       "      <th>max</th>\n",
       "      <td>1.000000</td>\n",
       "      <td>3.000000</td>\n",
       "      <td>1.000000</td>\n",
       "      <td>80.000000</td>\n",
       "      <td>8.000000</td>\n",
       "      <td>6.000000</td>\n",
       "      <td>512.32920</td>\n",
       "    </tr>\n",
       "  </tbody>\n",
       "</table>\n",
       "</div>"
      ],
      "text/plain": [
       "         Survived      Pclass         Sex         Age  \\\n",
       "count  887.000000  887.000000  887.000000  887.000000   \n",
       "mean     0.385569    2.305524    0.354002   29.471443   \n",
       "std      0.487004    0.836662    0.478480   14.121908   \n",
       "min      0.000000    1.000000    0.000000    0.420000   \n",
       "25%      0.000000    2.000000    0.000000   20.250000   \n",
       "50%      0.000000    3.000000    0.000000   28.000000   \n",
       "75%      1.000000    3.000000    1.000000   38.000000   \n",
       "max      1.000000    3.000000    1.000000   80.000000   \n",
       "\n",
       "       Siblings_Spouses_Aboard  Parents_Children_Aboard       Fare  \n",
       "count               887.000000               887.000000  887.00000  \n",
       "mean                  0.525366                 0.383315   32.30542  \n",
       "std                   1.104669                 0.807466   49.78204  \n",
       "min                   0.000000                 0.000000    0.00000  \n",
       "25%                   0.000000                 0.000000    7.92500  \n",
       "50%                   0.000000                 0.000000   14.45420  \n",
       "75%                   1.000000                 0.000000   31.13750  \n",
       "max                   8.000000                 6.000000  512.32920  "
      ]
     },
     "execution_count": 11,
     "metadata": {},
     "output_type": "execute_result"
    }
   ],
   "source": [
    "df.describe()"
   ]
  },
  {
   "cell_type": "markdown",
   "id": "eca5a019-8b44-493b-9bb2-8127cac827ca",
   "metadata": {
    "tags": []
   },
   "source": [
    "We can see that the std of the columns like Age and Fare are large than others, so we need to normalize these values. Also Survived is out target variable so we will create a separate variable for features and target"
   ]
  },
  {
   "cell_type": "code",
   "execution_count": 12,
   "id": "c357d820-47a3-4c02-8c67-188553a664df",
   "metadata": {
    "tags": []
   },
   "outputs": [
    {
     "data": {
      "text/plain": [
       "Survived                   0\n",
       "Pclass                     0\n",
       "Sex                        0\n",
       "Age                        0\n",
       "Siblings_Spouses_Aboard    0\n",
       "Parents_Children_Aboard    0\n",
       "Fare                       0\n",
       "dtype: int64"
      ]
     },
     "execution_count": 12,
     "metadata": {},
     "output_type": "execute_result"
    }
   ],
   "source": [
    "# check if any column have missing values\n",
    "df.isna().sum()"
   ]
  },
  {
   "cell_type": "markdown",
   "id": "9b6455aa-7d10-43d3-b7ec-5db82f48d7e0",
   "metadata": {},
   "source": [
    "There are no missing values."
   ]
  },
  {
   "cell_type": "code",
   "execution_count": 13,
   "id": "037c331b-194e-49d9-839f-0d384f2bf4f2",
   "metadata": {
    "tags": []
   },
   "outputs": [],
   "source": [
    "X = df.drop(['Survived'], axis = 1)\n",
    "y = df['Survived']"
   ]
  },
  {
   "cell_type": "code",
   "execution_count": 14,
   "id": "a65ae1ec-4dd8-4db5-91d0-a0c3d66c3079",
   "metadata": {
    "tags": []
   },
   "outputs": [
    {
     "data": {
      "text/html": [
       "<div>\n",
       "<style scoped>\n",
       "    .dataframe tbody tr th:only-of-type {\n",
       "        vertical-align: middle;\n",
       "    }\n",
       "\n",
       "    .dataframe tbody tr th {\n",
       "        vertical-align: top;\n",
       "    }\n",
       "\n",
       "    .dataframe thead th {\n",
       "        text-align: right;\n",
       "    }\n",
       "</style>\n",
       "<table border=\"1\" class=\"dataframe\">\n",
       "  <thead>\n",
       "    <tr style=\"text-align: right;\">\n",
       "      <th></th>\n",
       "      <th>0</th>\n",
       "      <th>1</th>\n",
       "      <th>2</th>\n",
       "      <th>3</th>\n",
       "      <th>4</th>\n",
       "      <th>5</th>\n",
       "    </tr>\n",
       "  </thead>\n",
       "  <tbody>\n",
       "    <tr>\n",
       "      <th>count</th>\n",
       "      <td>8.870000e+02</td>\n",
       "      <td>8.870000e+02</td>\n",
       "      <td>8.870000e+02</td>\n",
       "      <td>8.870000e+02</td>\n",
       "      <td>8.870000e+02</td>\n",
       "      <td>8.870000e+02</td>\n",
       "    </tr>\n",
       "    <tr>\n",
       "      <th>mean</th>\n",
       "      <td>-2.403189e-17</td>\n",
       "      <td>2.002657e-17</td>\n",
       "      <td>2.403189e-17</td>\n",
       "      <td>1.602126e-17</td>\n",
       "      <td>-1.702259e-17</td>\n",
       "      <td>1.301727e-16</td>\n",
       "    </tr>\n",
       "    <tr>\n",
       "      <th>std</th>\n",
       "      <td>1.000564e+00</td>\n",
       "      <td>1.000564e+00</td>\n",
       "      <td>1.000564e+00</td>\n",
       "      <td>1.000564e+00</td>\n",
       "      <td>1.000564e+00</td>\n",
       "      <td>1.000564e+00</td>\n",
       "    </tr>\n",
       "    <tr>\n",
       "      <th>min</th>\n",
       "      <td>-1.561277e+00</td>\n",
       "      <td>-7.402655e-01</td>\n",
       "      <td>-2.058350e+00</td>\n",
       "      <td>-4.758557e-01</td>\n",
       "      <td>-4.749808e-01</td>\n",
       "      <td>-6.493034e-01</td>\n",
       "    </tr>\n",
       "    <tr>\n",
       "      <th>25%</th>\n",
       "      <td>-3.653765e-01</td>\n",
       "      <td>-7.402655e-01</td>\n",
       "      <td>-6.533568e-01</td>\n",
       "      <td>-4.758557e-01</td>\n",
       "      <td>-4.749808e-01</td>\n",
       "      <td>-4.900196e-01</td>\n",
       "    </tr>\n",
       "    <tr>\n",
       "      <th>50%</th>\n",
       "      <td>8.305236e-01</td>\n",
       "      <td>-7.402655e-01</td>\n",
       "      <td>-1.042546e-01</td>\n",
       "      <td>-4.758557e-01</td>\n",
       "      <td>-4.749808e-01</td>\n",
       "      <td>-3.587899e-01</td>\n",
       "    </tr>\n",
       "    <tr>\n",
       "      <th>75%</th>\n",
       "      <td>8.305236e-01</td>\n",
       "      <td>1.350867e+00</td>\n",
       "      <td>6.042645e-01</td>\n",
       "      <td>4.299039e-01</td>\n",
       "      <td>-4.749808e-01</td>\n",
       "      <td>-2.347391e-02</td>\n",
       "    </tr>\n",
       "    <tr>\n",
       "      <th>max</th>\n",
       "      <td>8.305236e-01</td>\n",
       "      <td>1.350867e+00</td>\n",
       "      <td>3.580045e+00</td>\n",
       "      <td>6.770221e+00</td>\n",
       "      <td>6.959866e+00</td>\n",
       "      <td>9.647949e+00</td>\n",
       "    </tr>\n",
       "  </tbody>\n",
       "</table>\n",
       "</div>"
      ],
      "text/plain": [
       "                  0             1             2             3             4  \\\n",
       "count  8.870000e+02  8.870000e+02  8.870000e+02  8.870000e+02  8.870000e+02   \n",
       "mean  -2.403189e-17  2.002657e-17  2.403189e-17  1.602126e-17 -1.702259e-17   \n",
       "std    1.000564e+00  1.000564e+00  1.000564e+00  1.000564e+00  1.000564e+00   \n",
       "min   -1.561277e+00 -7.402655e-01 -2.058350e+00 -4.758557e-01 -4.749808e-01   \n",
       "25%   -3.653765e-01 -7.402655e-01 -6.533568e-01 -4.758557e-01 -4.749808e-01   \n",
       "50%    8.305236e-01 -7.402655e-01 -1.042546e-01 -4.758557e-01 -4.749808e-01   \n",
       "75%    8.305236e-01  1.350867e+00  6.042645e-01  4.299039e-01 -4.749808e-01   \n",
       "max    8.305236e-01  1.350867e+00  3.580045e+00  6.770221e+00  6.959866e+00   \n",
       "\n",
       "                  5  \n",
       "count  8.870000e+02  \n",
       "mean   1.301727e-16  \n",
       "std    1.000564e+00  \n",
       "min   -6.493034e-01  \n",
       "25%   -4.900196e-01  \n",
       "50%   -3.587899e-01  \n",
       "75%   -2.347391e-02  \n",
       "max    9.647949e+00  "
      ]
     },
     "execution_count": 14,
     "metadata": {},
     "output_type": "execute_result"
    }
   ],
   "source": [
    "# Normalization\n",
    "X_standard = StandardScaler().fit_transform(X)\n",
    "pd.DataFrame(X_standard).describe()"
   ]
  },
  {
   "cell_type": "markdown",
   "id": "4bd3937a-92f5-4f01-912a-45381dca9c69",
   "metadata": {},
   "source": [
    "Now all the vales are within the range"
   ]
  },
  {
   "cell_type": "code",
   "execution_count": 15,
   "id": "2fc3aa02-5cf3-4b80-be2b-1cf2b0040e0a",
   "metadata": {
    "tags": []
   },
   "outputs": [],
   "source": [
    "# Create training and test dataset\n",
    "X_train, X_test, y_train, y_test = train_test_split(X, y, test_size =0.2, random_state = 42)"
   ]
  },
  {
   "cell_type": "markdown",
   "id": "84f0c13b-8afd-434d-9970-8b249745805f",
   "metadata": {},
   "source": [
    "### Logistic Regression"
   ]
  },
  {
   "cell_type": "code",
   "execution_count": 16,
   "id": "b6c9191a-911f-4185-bc09-a844d79fb1bc",
   "metadata": {
    "tags": []
   },
   "outputs": [
    {
     "data": {
      "text/plain": [
       "GridSearchCV(estimator=LogisticRegression(random_state=42),\n",
       "             param_grid={'penalty': ['none', 'l2']})"
      ]
     },
     "execution_count": 16,
     "metadata": {},
     "output_type": "execute_result"
    }
   ],
   "source": [
    "# Create list of hyperparameters\n",
    "logistic_parameters = {'penalty': ['none', 'l2']}\n",
    "regressor = LogisticRegression(random_state = 42)\n",
    "regressor_grid = GridSearchCV(regressor, logistic_parameters)\n",
    "regressor_grid.fit(X_train, y_train)"
   ]
  },
  {
   "cell_type": "code",
   "execution_count": 17,
   "id": "a0927e17-9904-446c-aee1-fe74fb2dda4c",
   "metadata": {
    "tags": []
   },
   "outputs": [
    {
     "name": "stdout",
     "output_type": "stream",
     "text": [
      "0.8138148037159125\n",
      "0.7471910112359551\n"
     ]
    }
   ],
   "source": [
    "best_params = regressor_grid.best_params_\n",
    "print(regressor_grid.best_score_)\n",
    "print(regressor_grid.best_estimator_.score(X_test, y_test))"
   ]
  },
  {
   "cell_type": "code",
   "execution_count": 18,
   "id": "26e26be2-8bae-4c28-97d5-b5bb5ab53289",
   "metadata": {
    "tags": []
   },
   "outputs": [
    {
     "name": "stdout",
     "output_type": "stream",
     "text": [
      "The accuracy of Logistic Regression is 0.75 and recall is 0.55\n"
     ]
    }
   ],
   "source": [
    "# Train Logistic Regression model using the best parameters\n",
    "logistic_regressor = LogisticRegression(**best_params).fit(X_train, y_train)\n",
    "logistic_pred = logistic_regressor.predict(X_test)\n",
    "logistic_accuracy = accuracy_score(y_test, logistic_pred)\n",
    "logistic_recall = recall_score(y_test, logistic_pred)\n",
    "print(\"The accuracy of Logistic Regression is {:.2f} and recall is {:.2f}\".format(logistic_accuracy, logistic_recall))"
   ]
  },
  {
   "cell_type": "markdown",
   "id": "cb5c9edf-179e-46bb-9f3d-c5c33d9e1210",
   "metadata": {},
   "source": [
    "We will focus mostly on recall since we want to correclty predict the survivals."
   ]
  },
  {
   "cell_type": "code",
   "execution_count": 19,
   "id": "1ed17734-b0ad-472e-a498-243803a71335",
   "metadata": {
    "tags": []
   },
   "outputs": [
    {
     "data": {
      "text/plain": [
       "array([[96, 15],\n",
       "       [30, 37]], dtype=int64)"
      ]
     },
     "execution_count": 19,
     "metadata": {},
     "output_type": "execute_result"
    }
   ],
   "source": [
    "confusion_matrix(y_test, logistic_pred)"
   ]
  },
  {
   "cell_type": "markdown",
   "id": "81f6f596-9773-4a09-9c68-51150e1a1da1",
   "metadata": {
    "tags": []
   },
   "source": [
    "### Random Forest Classifier"
   ]
  },
  {
   "cell_type": "code",
   "execution_count": 20,
   "id": "8dc8e4ce-dcb1-4a0b-8d64-be9726e8ce88",
   "metadata": {
    "tags": []
   },
   "outputs": [
    {
     "name": "stdout",
     "output_type": "stream",
     "text": [
      "0.8109979023074617\n",
      "0.7808988764044944\n"
     ]
    }
   ],
   "source": [
    "# Create parameters for random forest\n",
    "forest_parameters =  {\n",
    "    'criterion': ['gini', 'entropy'],\n",
    "     'n_estimators': [50, 100, 150]\n",
    "}\n",
    "forest_classifier = RandomForestClassifier(random_state = 42)\n",
    "forest_grid = GridSearchCV(forest_classifier, forest_parameters)\n",
    "forest_grid.fit(X_train, y_train)\n",
    "best_params = forest_grid.best_params_\n",
    "print(forest_grid.best_score_)\n",
    "print(forest_grid.best_estimator_.score(X_test, y_test))"
   ]
  },
  {
   "cell_type": "code",
   "execution_count": 21,
   "id": "0e0b4c85-9af4-41eb-8fdc-29d9d7733b31",
   "metadata": {
    "tags": []
   },
   "outputs": [
    {
     "name": "stdout",
     "output_type": "stream",
     "text": [
      "The accuracy of random forest classifier is 0.78 and recall is 0.70\n"
     ]
    }
   ],
   "source": [
    "forest_classifier = RandomForestClassifier(**best_params, random_state = 42)\n",
    "forest_classifier.fit(X_train, y_train)\n",
    "forest_pred = forest_classifier.predict(X_test)\n",
    "forest_accuracy = accuracy_score(y_test, forest_pred)\n",
    "forest_recall = recall_score(y_test, forest_pred)\n",
    "print(\"The accuracy of random forest classifier is {:.2f} and recall is {:.2f}\".format(forest_accuracy, forest_recall))"
   ]
  },
  {
   "cell_type": "markdown",
   "id": "96a78465-c296-42e0-a775-0ea3e99170d6",
   "metadata": {},
   "source": [
    "### Neural Network "
   ]
  },
  {
   "cell_type": "code",
   "execution_count": 22,
   "id": "d33cb9a1-da41-4be9-8e01-d969ed1d0449",
   "metadata": {
    "tags": []
   },
   "outputs": [],
   "source": [
    "model = Sequential()\n",
    "model.add(Dense(units=128, activation='relu', input_dim=X_train.shape[1]))\n",
    "model.add(Dropout(0.2))    \n",
    "model.add(Dense(units=64, activation='relu'))\n",
    "model.add(Dense(units=32, activation='relu'))\n",
    "model.add(Dropout(0.2))\n",
    "model.add(Dense(units=1, activation='sigmoid'))\n",
    "model.compile(optimizer=Adam(learning_rate = 0.01), loss='binary_crossentropy', metrics = ['accuracy'])"
   ]
  },
  {
   "cell_type": "code",
   "execution_count": 23,
   "id": "9d99f7c5-4f0e-40ad-a594-2f2f8823f1dc",
   "metadata": {
    "tags": []
   },
   "outputs": [
    {
     "name": "stdout",
     "output_type": "stream",
     "text": [
      "Epoch 1/100\n",
      "24/24 [==============================] - 1s 12ms/step - loss: 1.1326 - accuracy: 0.5980 - val_loss: 0.6115 - val_accuracy: 0.6685\n",
      "Epoch 2/100\n",
      "24/24 [==============================] - 0s 3ms/step - loss: 0.6940 - accuracy: 0.6460 - val_loss: 0.6265 - val_accuracy: 0.6461\n",
      "Epoch 3/100\n",
      "24/24 [==============================] - 0s 3ms/step - loss: 0.6459 - accuracy: 0.6248 - val_loss: 0.5851 - val_accuracy: 0.6404\n",
      "Epoch 4/100\n",
      "24/24 [==============================] - 0s 3ms/step - loss: 0.6254 - accuracy: 0.6685 - val_loss: 0.6626 - val_accuracy: 0.6685\n",
      "Epoch 5/100\n",
      "24/24 [==============================] - 0s 3ms/step - loss: 0.6398 - accuracy: 0.6516 - val_loss: 0.6089 - val_accuracy: 0.6629\n",
      "Epoch 6/100\n",
      "24/24 [==============================] - 0s 3ms/step - loss: 0.6177 - accuracy: 0.6643 - val_loss: 0.5827 - val_accuracy: 0.6629\n",
      "Epoch 7/100\n",
      "24/24 [==============================] - 0s 4ms/step - loss: 0.6122 - accuracy: 0.6643 - val_loss: 0.5757 - val_accuracy: 0.6292\n",
      "Epoch 8/100\n",
      "24/24 [==============================] - 0s 3ms/step - loss: 0.6088 - accuracy: 0.6770 - val_loss: 0.5598 - val_accuracy: 0.6742\n",
      "Epoch 9/100\n",
      "24/24 [==============================] - 0s 4ms/step - loss: 0.6029 - accuracy: 0.6742 - val_loss: 0.6079 - val_accuracy: 0.7303\n",
      "Epoch 10/100\n",
      "24/24 [==============================] - 0s 3ms/step - loss: 0.5730 - accuracy: 0.6953 - val_loss: 0.5516 - val_accuracy: 0.7528\n",
      "Epoch 11/100\n",
      "24/24 [==============================] - 0s 5ms/step - loss: 0.5501 - accuracy: 0.7405 - val_loss: 0.5130 - val_accuracy: 0.7247\n",
      "Epoch 12/100\n",
      "24/24 [==============================] - 0s 3ms/step - loss: 0.5646 - accuracy: 0.7504 - val_loss: 0.5353 - val_accuracy: 0.7191\n",
      "Epoch 13/100\n",
      "24/24 [==============================] - 0s 4ms/step - loss: 0.5151 - accuracy: 0.7715 - val_loss: 0.5117 - val_accuracy: 0.7360\n",
      "Epoch 14/100\n",
      "24/24 [==============================] - 0s 3ms/step - loss: 0.5572 - accuracy: 0.7616 - val_loss: 0.5138 - val_accuracy: 0.7472\n",
      "Epoch 15/100\n",
      "24/24 [==============================] - 0s 3ms/step - loss: 0.4967 - accuracy: 0.7800 - val_loss: 0.5083 - val_accuracy: 0.7416\n",
      "Epoch 16/100\n",
      "24/24 [==============================] - 0s 4ms/step - loss: 0.4730 - accuracy: 0.7969 - val_loss: 0.5060 - val_accuracy: 0.7303\n",
      "Epoch 17/100\n",
      "24/24 [==============================] - 0s 4ms/step - loss: 0.4880 - accuracy: 0.7870 - val_loss: 0.5002 - val_accuracy: 0.7360\n",
      "Epoch 18/100\n",
      "24/24 [==============================] - 0s 4ms/step - loss: 0.5469 - accuracy: 0.7221 - val_loss: 0.5542 - val_accuracy: 0.7079\n",
      "Epoch 19/100\n",
      "24/24 [==============================] - 0s 4ms/step - loss: 0.5129 - accuracy: 0.7447 - val_loss: 0.5058 - val_accuracy: 0.7303\n",
      "Epoch 20/100\n",
      "24/24 [==============================] - 0s 3ms/step - loss: 0.4896 - accuracy: 0.7955 - val_loss: 0.5181 - val_accuracy: 0.7360\n",
      "Epoch 21/100\n",
      "24/24 [==============================] - 0s 3ms/step - loss: 0.4913 - accuracy: 0.7814 - val_loss: 0.5055 - val_accuracy: 0.7247\n",
      "Epoch 22/100\n",
      "24/24 [==============================] - 0s 4ms/step - loss: 0.4796 - accuracy: 0.7729 - val_loss: 0.4938 - val_accuracy: 0.7472\n",
      "Epoch 23/100\n",
      "24/24 [==============================] - 0s 3ms/step - loss: 0.4681 - accuracy: 0.8096 - val_loss: 0.5756 - val_accuracy: 0.7584\n",
      "Epoch 24/100\n",
      "24/24 [==============================] - 0s 3ms/step - loss: 0.4704 - accuracy: 0.7870 - val_loss: 0.4874 - val_accuracy: 0.7472\n",
      "Epoch 25/100\n",
      "24/24 [==============================] - 0s 4ms/step - loss: 0.5053 - accuracy: 0.7814 - val_loss: 0.5161 - val_accuracy: 0.7472\n",
      "Epoch 26/100\n",
      "24/24 [==============================] - 0s 3ms/step - loss: 0.4739 - accuracy: 0.7955 - val_loss: 0.5095 - val_accuracy: 0.7416\n",
      "Epoch 27/100\n",
      "24/24 [==============================] - 0s 3ms/step - loss: 0.4652 - accuracy: 0.7927 - val_loss: 0.5022 - val_accuracy: 0.7584\n",
      "Epoch 28/100\n",
      "24/24 [==============================] - 0s 3ms/step - loss: 0.4577 - accuracy: 0.7969 - val_loss: 0.5037 - val_accuracy: 0.7360\n",
      "Epoch 29/100\n",
      "24/24 [==============================] - 0s 4ms/step - loss: 0.4985 - accuracy: 0.7856 - val_loss: 0.4988 - val_accuracy: 0.7584\n",
      "Epoch 30/100\n",
      "24/24 [==============================] - 0s 4ms/step - loss: 0.5059 - accuracy: 0.7997 - val_loss: 0.4979 - val_accuracy: 0.7528\n",
      "Epoch 31/100\n",
      "24/24 [==============================] - 0s 3ms/step - loss: 0.4896 - accuracy: 0.7842 - val_loss: 0.5411 - val_accuracy: 0.7528\n",
      "Epoch 32/100\n",
      "24/24 [==============================] - 0s 3ms/step - loss: 0.4506 - accuracy: 0.8025 - val_loss: 0.4950 - val_accuracy: 0.7528\n",
      "Epoch 33/100\n",
      "24/24 [==============================] - 0s 3ms/step - loss: 0.4415 - accuracy: 0.8195 - val_loss: 0.4895 - val_accuracy: 0.7528\n",
      "Epoch 34/100\n",
      "24/24 [==============================] - 0s 3ms/step - loss: 0.4568 - accuracy: 0.8096 - val_loss: 0.5089 - val_accuracy: 0.7584\n",
      "Epoch 35/100\n",
      "24/24 [==============================] - 0s 3ms/step - loss: 0.4319 - accuracy: 0.8223 - val_loss: 0.5217 - val_accuracy: 0.7640\n",
      "Epoch 36/100\n",
      "24/24 [==============================] - 0s 3ms/step - loss: 0.4758 - accuracy: 0.7870 - val_loss: 0.5185 - val_accuracy: 0.7472\n",
      "Epoch 37/100\n",
      "24/24 [==============================] - 0s 3ms/step - loss: 0.4652 - accuracy: 0.7927 - val_loss: 0.4870 - val_accuracy: 0.7640\n",
      "Epoch 38/100\n",
      "24/24 [==============================] - 0s 3ms/step - loss: 0.4544 - accuracy: 0.8138 - val_loss: 0.4971 - val_accuracy: 0.7584\n",
      "Epoch 39/100\n",
      "24/24 [==============================] - 0s 3ms/step - loss: 0.4166 - accuracy: 0.8195 - val_loss: 0.4971 - val_accuracy: 0.7472\n",
      "Epoch 40/100\n",
      "24/24 [==============================] - 0s 3ms/step - loss: 0.4260 - accuracy: 0.8152 - val_loss: 0.5120 - val_accuracy: 0.7416\n",
      "Epoch 41/100\n",
      "24/24 [==============================] - 0s 3ms/step - loss: 0.4316 - accuracy: 0.8110 - val_loss: 0.4893 - val_accuracy: 0.7753\n",
      "Epoch 42/100\n",
      "24/24 [==============================] - 0s 3ms/step - loss: 0.4416 - accuracy: 0.8039 - val_loss: 0.5093 - val_accuracy: 0.7809\n",
      "Epoch 43/100\n",
      "24/24 [==============================] - 0s 3ms/step - loss: 0.4354 - accuracy: 0.8110 - val_loss: 0.5189 - val_accuracy: 0.7584\n",
      "Epoch 44/100\n",
      "24/24 [==============================] - 0s 3ms/step - loss: 0.4380 - accuracy: 0.8138 - val_loss: 0.4966 - val_accuracy: 0.7640\n",
      "Epoch 45/100\n",
      "24/24 [==============================] - 0s 3ms/step - loss: 0.4542 - accuracy: 0.8124 - val_loss: 0.5095 - val_accuracy: 0.7753\n",
      "Epoch 46/100\n",
      "24/24 [==============================] - 0s 3ms/step - loss: 0.4456 - accuracy: 0.8025 - val_loss: 0.5041 - val_accuracy: 0.7865\n",
      "Epoch 47/100\n",
      "24/24 [==============================] - 0s 3ms/step - loss: 0.4201 - accuracy: 0.8096 - val_loss: 0.5428 - val_accuracy: 0.7472\n",
      "Epoch 48/100\n",
      "24/24 [==============================] - 0s 3ms/step - loss: 0.4581 - accuracy: 0.8181 - val_loss: 0.5097 - val_accuracy: 0.7697\n",
      "Epoch 49/100\n",
      "24/24 [==============================] - 0s 3ms/step - loss: 0.4757 - accuracy: 0.8011 - val_loss: 0.4946 - val_accuracy: 0.7640\n",
      "Epoch 50/100\n",
      "24/24 [==============================] - 0s 3ms/step - loss: 0.4433 - accuracy: 0.8054 - val_loss: 0.4976 - val_accuracy: 0.7640\n",
      "Epoch 51/100\n",
      "24/24 [==============================] - 0s 3ms/step - loss: 0.4319 - accuracy: 0.8096 - val_loss: 0.5296 - val_accuracy: 0.7584\n",
      "Epoch 52/100\n",
      "24/24 [==============================] - 0s 3ms/step - loss: 0.4412 - accuracy: 0.8039 - val_loss: 0.4857 - val_accuracy: 0.7753\n",
      "Epoch 53/100\n",
      "24/24 [==============================] - 0s 4ms/step - loss: 0.4347 - accuracy: 0.8096 - val_loss: 0.4812 - val_accuracy: 0.7809\n",
      "Epoch 54/100\n",
      "24/24 [==============================] - 0s 4ms/step - loss: 0.4468 - accuracy: 0.8082 - val_loss: 0.4929 - val_accuracy: 0.7809\n",
      "Epoch 55/100\n",
      "24/24 [==============================] - 0s 3ms/step - loss: 0.4478 - accuracy: 0.8054 - val_loss: 0.5462 - val_accuracy: 0.7584\n",
      "Epoch 56/100\n",
      "24/24 [==============================] - 0s 4ms/step - loss: 0.4651 - accuracy: 0.7814 - val_loss: 0.5295 - val_accuracy: 0.7584\n",
      "Epoch 57/100\n",
      "24/24 [==============================] - 0s 4ms/step - loss: 0.4395 - accuracy: 0.8110 - val_loss: 0.4647 - val_accuracy: 0.7865\n",
      "Epoch 58/100\n",
      "24/24 [==============================] - 0s 3ms/step - loss: 0.4507 - accuracy: 0.8138 - val_loss: 0.5132 - val_accuracy: 0.7584\n",
      "Epoch 59/100\n",
      "24/24 [==============================] - 0s 4ms/step - loss: 0.4352 - accuracy: 0.8011 - val_loss: 0.5007 - val_accuracy: 0.7697\n",
      "Epoch 60/100\n",
      "24/24 [==============================] - 0s 3ms/step - loss: 0.4352 - accuracy: 0.8181 - val_loss: 0.5031 - val_accuracy: 0.7809\n",
      "Epoch 61/100\n",
      "24/24 [==============================] - 0s 3ms/step - loss: 0.4408 - accuracy: 0.8166 - val_loss: 0.4881 - val_accuracy: 0.7809\n",
      "Epoch 62/100\n",
      "24/24 [==============================] - 0s 3ms/step - loss: 0.4438 - accuracy: 0.8138 - val_loss: 0.4751 - val_accuracy: 0.7753\n",
      "Epoch 63/100\n",
      "24/24 [==============================] - 0s 3ms/step - loss: 0.4412 - accuracy: 0.8124 - val_loss: 0.4759 - val_accuracy: 0.7865\n",
      "Epoch 64/100\n",
      "24/24 [==============================] - 0s 5ms/step - loss: 0.4019 - accuracy: 0.8293 - val_loss: 0.5252 - val_accuracy: 0.7865\n",
      "Epoch 65/100\n",
      "24/24 [==============================] - 0s 4ms/step - loss: 0.4362 - accuracy: 0.8110 - val_loss: 0.5356 - val_accuracy: 0.7809\n",
      "Epoch 66/100\n",
      "24/24 [==============================] - 0s 3ms/step - loss: 0.4339 - accuracy: 0.8082 - val_loss: 0.5211 - val_accuracy: 0.7640\n",
      "Epoch 67/100\n",
      "24/24 [==============================] - 0s 3ms/step - loss: 0.4342 - accuracy: 0.8082 - val_loss: 0.4889 - val_accuracy: 0.7809\n",
      "Epoch 68/100\n",
      "24/24 [==============================] - 0s 3ms/step - loss: 0.4118 - accuracy: 0.8293 - val_loss: 0.4913 - val_accuracy: 0.7921\n",
      "Epoch 69/100\n",
      "24/24 [==============================] - 0s 3ms/step - loss: 0.4145 - accuracy: 0.8223 - val_loss: 0.4937 - val_accuracy: 0.7584\n",
      "Epoch 70/100\n",
      "24/24 [==============================] - 0s 3ms/step - loss: 0.4183 - accuracy: 0.8364 - val_loss: 0.5299 - val_accuracy: 0.7697\n",
      "Epoch 71/100\n",
      "24/24 [==============================] - 0s 3ms/step - loss: 0.4092 - accuracy: 0.8223 - val_loss: 0.5001 - val_accuracy: 0.7978\n",
      "Epoch 72/100\n",
      "24/24 [==============================] - 0s 4ms/step - loss: 0.4192 - accuracy: 0.8237 - val_loss: 0.5032 - val_accuracy: 0.7809\n",
      "Epoch 73/100\n",
      "24/24 [==============================] - 0s 4ms/step - loss: 0.4041 - accuracy: 0.8265 - val_loss: 0.4996 - val_accuracy: 0.7697\n",
      "Epoch 74/100\n",
      "24/24 [==============================] - 0s 3ms/step - loss: 0.4361 - accuracy: 0.8195 - val_loss: 0.5233 - val_accuracy: 0.7753\n",
      "Epoch 75/100\n",
      "24/24 [==============================] - 0s 3ms/step - loss: 0.4403 - accuracy: 0.8138 - val_loss: 0.5184 - val_accuracy: 0.7809\n",
      "Epoch 76/100\n",
      "24/24 [==============================] - 0s 3ms/step - loss: 0.4279 - accuracy: 0.8181 - val_loss: 0.4940 - val_accuracy: 0.7921\n",
      "Epoch 77/100\n",
      "24/24 [==============================] - 0s 5ms/step - loss: 0.4015 - accuracy: 0.8293 - val_loss: 0.5132 - val_accuracy: 0.7584\n",
      "Epoch 78/100\n",
      "24/24 [==============================] - 0s 4ms/step - loss: 0.4306 - accuracy: 0.8124 - val_loss: 0.4904 - val_accuracy: 0.7978\n",
      "Epoch 79/100\n",
      "24/24 [==============================] - 0s 4ms/step - loss: 0.4213 - accuracy: 0.8138 - val_loss: 0.5368 - val_accuracy: 0.7753\n",
      "Epoch 80/100\n",
      "24/24 [==============================] - 0s 3ms/step - loss: 0.4208 - accuracy: 0.8237 - val_loss: 0.5220 - val_accuracy: 0.7921\n",
      "Epoch 81/100\n",
      "24/24 [==============================] - 0s 3ms/step - loss: 0.4373 - accuracy: 0.8124 - val_loss: 0.5164 - val_accuracy: 0.7753\n",
      "Epoch 82/100\n",
      "24/24 [==============================] - 0s 5ms/step - loss: 0.4317 - accuracy: 0.8068 - val_loss: 0.5021 - val_accuracy: 0.7753\n",
      "Epoch 83/100\n",
      "24/24 [==============================] - 0s 3ms/step - loss: 0.4559 - accuracy: 0.8039 - val_loss: 0.5153 - val_accuracy: 0.7921\n",
      "Epoch 84/100\n",
      "24/24 [==============================] - 0s 3ms/step - loss: 0.4392 - accuracy: 0.8011 - val_loss: 0.4911 - val_accuracy: 0.7865\n",
      "Epoch 85/100\n",
      "24/24 [==============================] - 0s 3ms/step - loss: 0.4386 - accuracy: 0.8025 - val_loss: 0.5086 - val_accuracy: 0.7865\n",
      "Epoch 86/100\n",
      "24/24 [==============================] - 0s 3ms/step - loss: 0.4423 - accuracy: 0.7941 - val_loss: 0.5268 - val_accuracy: 0.7753\n",
      "Epoch 87/100\n",
      "24/24 [==============================] - 0s 4ms/step - loss: 0.4448 - accuracy: 0.8039 - val_loss: 0.4897 - val_accuracy: 0.7753\n",
      "Epoch 88/100\n",
      "24/24 [==============================] - 0s 4ms/step - loss: 0.4417 - accuracy: 0.7941 - val_loss: 0.4919 - val_accuracy: 0.7584\n",
      "Epoch 89/100\n",
      "24/24 [==============================] - 0s 4ms/step - loss: 0.4397 - accuracy: 0.7870 - val_loss: 0.5070 - val_accuracy: 0.7697\n",
      "Epoch 90/100\n",
      "24/24 [==============================] - 0s 4ms/step - loss: 0.4378 - accuracy: 0.8251 - val_loss: 0.4872 - val_accuracy: 0.7865\n",
      "Epoch 91/100\n",
      "24/24 [==============================] - 0s 4ms/step - loss: 0.4358 - accuracy: 0.8054 - val_loss: 0.5194 - val_accuracy: 0.7809\n",
      "Epoch 92/100\n",
      "24/24 [==============================] - 0s 4ms/step - loss: 0.4469 - accuracy: 0.8068 - val_loss: 0.5069 - val_accuracy: 0.7921\n",
      "Epoch 93/100\n",
      "24/24 [==============================] - 0s 4ms/step - loss: 0.4243 - accuracy: 0.8025 - val_loss: 0.4920 - val_accuracy: 0.7865\n",
      "Epoch 94/100\n",
      "24/24 [==============================] - 0s 4ms/step - loss: 0.4023 - accuracy: 0.8265 - val_loss: 0.5184 - val_accuracy: 0.7921\n",
      "Epoch 95/100\n",
      "24/24 [==============================] - 0s 3ms/step - loss: 0.4482 - accuracy: 0.8096 - val_loss: 0.5119 - val_accuracy: 0.7809\n",
      "Epoch 96/100\n",
      "24/24 [==============================] - 0s 4ms/step - loss: 0.4478 - accuracy: 0.8054 - val_loss: 0.4816 - val_accuracy: 0.7809\n",
      "Epoch 97/100\n",
      "24/24 [==============================] - 0s 3ms/step - loss: 0.4501 - accuracy: 0.7927 - val_loss: 0.4968 - val_accuracy: 0.7753\n",
      "Epoch 98/100\n",
      "24/24 [==============================] - 0s 4ms/step - loss: 0.4214 - accuracy: 0.8068 - val_loss: 0.4918 - val_accuracy: 0.7865\n",
      "Epoch 99/100\n",
      "24/24 [==============================] - 0s 4ms/step - loss: 0.4291 - accuracy: 0.8322 - val_loss: 0.5206 - val_accuracy: 0.7865\n",
      "Epoch 100/100\n",
      "24/24 [==============================] - 0s 4ms/step - loss: 0.4401 - accuracy: 0.8364 - val_loss: 0.5187 - val_accuracy: 0.7584\n"
     ]
    }
   ],
   "source": [
    "history = model.fit(X_train, y_train, epochs=100, batch_size = 30, validation_data=(X_test, y_test))"
   ]
  },
  {
   "cell_type": "code",
   "execution_count": 24,
   "id": "daddda0a-0d27-448e-940d-36cfb51cdb03",
   "metadata": {
    "tags": []
   },
   "outputs": [
    {
     "data": {
      "image/png": "[encoded data removed]",
      "text/plain": [
       "<Figure size 640x480 with 1 Axes>"
      ]
     },
     "metadata": {},
     "output_type": "display_data"
    }
   ],
   "source": [
    "# plot accuracy and loss graphs\n",
    "plt.plot(history.history['accuracy'], label = 'Train Accuracy')\n",
    "plt.plot(history.history['val_accuracy'], label = 'Test Accuracy')\n",
    "plt.title('Model Accuracy')\n",
    "plt.xlabel('Epoch')\n",
    "plt.ylabel('Accuracy')\n",
    "plt.show()"
   ]
  },
  {
   "cell_type": "code",
   "execution_count": 25,
   "id": "2be8c75b-a14f-4df7-b6a2-fe96e627c201",
   "metadata": {
    "tags": []
   },
   "outputs": [
    {
     "data": {
      "image/png": "[encoded data removed]",
      "text/plain": [
       "<Figure size 640x480 with 1 Axes>"
      ]
     },
     "metadata": {},
     "output_type": "display_data"
    }
   ],
   "source": [
    "plt.plot(history.history['loss'], label = 'Train loss')\n",
    "plt.plot(history.history['val_loss'], label = 'Test loss')\n",
    "plt.title('Model Loss')\n",
    "plt.xlabel('Epoch')\n",
    "plt.ylabel('Loss')\n",
    "plt.show()"
   ]
  },
  {
   "cell_type": "code",
   "execution_count": 26,
   "id": "54e82d4a-109c-42f7-b004-5ef236dad072",
   "metadata": {
    "tags": []
   },
   "outputs": [
    {
     "name": "stdout",
     "output_type": "stream",
     "text": [
      "6/6 [==============================] - 0s 2ms/step - loss: 0.5187 - accuracy: 0.7584\n",
      "The test loss of neural net is 0.52 and test accuracy is 0.76\n"
     ]
    }
   ],
   "source": [
    "test_loss, test_acc = model.evaluate(X_test, y_test)\n",
    "print(\"The test loss of neural net is {:.2f} and test accuracy is {:.2f}\".format(test_loss, test_acc))"
   ]
  },
  {
   "cell_type": "code",
   "execution_count": 27,
   "id": "47d1ade5-27a9-4003-94d7-9a9643f98e24",
   "metadata": {
    "tags": []
   },
   "outputs": [
    {
     "name": "stdout",
     "output_type": "stream",
     "text": [
      "6/6 [==============================] - 0s 2ms/step\n",
      "The accuracy of neural net is 0.76 and recall is 0.45\n"
     ]
    }
   ],
   "source": [
    "nn_pred = model.predict(X_test)\n",
    "nn_pred = (nn_pred > 0.5).astype(int)\n",
    "nn_accuracy = accuracy_score(y_test, nn_pred)\n",
    "nn_recall = recall_score(y_test, nn_pred)\n",
    "print(\"The accuracy of neural net is {:.2f} and recall is {:.2f}\".format(nn_accuracy, nn_recall))"
   ]
  },
  {
   "cell_type": "markdown",
   "id": "8e48bd36-fd30-4a69-88be-4f70e948ca0f",
   "metadata": {},
   "source": [
    "Since Random Forest has high recall, I would prefer the random forest over other models."
   ]
  },
  {
   "cell_type": "code",
   "execution_count": null,
   "id": "e82e38cb-8d82-42a5-83c5-f2730d22cb34",
   "metadata": {},
   "outputs": [],
   "source": []
  }
 ],
 "metadata": {
  "kernelspec": {
   "display_name": "Python 3 (ipykernel)",
   "language": "python",
   "name": "python3"
  },
  "language_info": {
   "codemirror_mode": {
    "name": "ipython",
    "version": 3
   },
   "file_extension": ".py",
   "mimetype": "text/x-python",
   "name": "python",
   "nbconvert_exporter": "python",
   "pygments_lexer": "ipython3",
   "version": "3.7.9"
  }
 },
 "nbformat": 4,
 "nbformat_minor": 5
}
