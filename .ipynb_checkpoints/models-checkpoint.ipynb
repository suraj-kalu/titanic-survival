{
 "cells": [
  {
   "cell_type": "code",
   "execution_count": 17,
   "id": "7d6ce03f-39ae-4542-be01-5a021599d995",
   "metadata": {
    "tags": []
   },
   "outputs": [],
   "source": [
    "# import all required libraries\n",
    "\n",
    "import pandas as pd\n",
    "import matplotlib.pyplot as plt\n",
    "from sklearn.model_selection import train_test_split, GridSearchCV\n",
    "from sklearn.linear_model import LogisticRegression\n",
    "from sklearn.preprocessing import StandardScaler\n",
    "from sklearn.metrics import recall_score, accuracy_score, confusion_matrix\n",
    "from sklearn.ensemble import RandomForestClassifier\n",
    "\n",
    "from tensorflow.keras.models import Sequential\n",
    "from tensorflow.keras.layers import Dense, Dropout\n",
    "from tensorflow.keras.optimizers import Adam"
   ]
  },
  {
   "cell_type": "code",
   "execution_count": 2,
   "id": "cd3074b9-8cc8-493b-88ea-9d44728d83b0",
   "metadata": {
    "tags": []
   },
   "outputs": [],
   "source": [
    "# read the dataset\n",
    "df_main = pd.read_csv(\"titanic.csv\")\n",
    "# create a copy of the main dataframe\n",
    "df = df_main.copy()"
   ]
  },
  {
   "cell_type": "markdown",
   "id": "47214548-5601-45fe-bf74-cb9948cd9d5f",
   "metadata": {},
   "source": [
    "### Explore dataset"
   ]
  },
  {
   "cell_type": "code",
   "execution_count": 3,
   "id": "4a93d180-b7b9-4845-a614-3caad9625ee9",
   "metadata": {
    "tags": []
   },
   "outputs": [
    {
     "name": "stdout",
     "output_type": "stream",
     "text": [
      "<class 'pandas.core.frame.DataFrame'>\n",
      "RangeIndex: 887 entries, 0 to 886\n",
      "Data columns (total 8 columns):\n",
      " #   Column                   Non-Null Count  Dtype  \n",
      "---  ------                   --------------  -----  \n",
      " 0   Survived                 887 non-null    int64  \n",
      " 1   Pclass                   887 non-null    int64  \n",
      " 2   Name                     887 non-null    object \n",
      " 3   Sex                      887 non-null    object \n",
      " 4   Age                      887 non-null    float64\n",
      " 5   Siblings/Spouses Aboard  887 non-null    int64  \n",
      " 6   Parents/Children Aboard  887 non-null    int64  \n",
      " 7   Fare                     887 non-null    float64\n",
      "dtypes: float64(2), int64(4), object(2)\n",
      "memory usage: 55.6+ KB\n"
     ]
    }
   ],
   "source": [
    "df.info()"
   ]
  },
  {
   "cell_type": "markdown",
   "id": "f408ad25-df7d-4735-b2d4-5a296ea7dc77",
   "metadata": {},
   "source": [
    "- The column names have / and whitespace, so that can be changed\n",
    "- Sex and Name are in object type, so they are probably in string"
   ]
  },
  {
   "cell_type": "code",
   "execution_count": 4,
   "id": "c7824c7d-ed07-4408-940f-b90f04b7f9a3",
   "metadata": {
    "tags": []
   },
   "outputs": [],
   "source": [
    "# Replace the column names i.e replace \"/\" and whitespaces to underscore for easy access of data\n",
    "df.columns = df.columns.map(lambda x: x.replace('/','_').replace(' ', '_'))"
   ]
  },
  {
   "cell_type": "code",
   "execution_count": 5,
   "id": "9cbbf508-c0c3-4ab7-94af-31cd7d85fbb3",
   "metadata": {
    "tags": []
   },
   "outputs": [
    {
     "data": {
      "text/plain": [
       "Index(['Survived', 'Pclass', 'Name', 'Sex', 'Age', 'Siblings_Spouses_Aboard',\n",
       "       'Parents_Children_Aboard', 'Fare'],\n",
       "      dtype='object')"
      ]
     },
     "execution_count": 5,
     "metadata": {},
     "output_type": "execute_result"
    }
   ],
   "source": [
    "df.columns"
   ]
  },
  {
   "cell_type": "code",
   "execution_count": 6,
   "id": "dd63a4ef-7a96-453c-a249-8545fd02c641",
   "metadata": {
    "tags": []
   },
   "outputs": [
    {
     "data": {
      "text/html": [
       "<div>\n",
       "<style scoped>\n",
       "    .dataframe tbody tr th:only-of-type {\n",
       "        vertical-align: middle;\n",
       "    }\n",
       "\n",
       "    .dataframe tbody tr th {\n",
       "        vertical-align: top;\n",
       "    }\n",
       "\n",
       "    .dataframe thead th {\n",
       "        text-align: right;\n",
       "    }\n",
       "</style>\n",
       "<table border=\"1\" class=\"dataframe\">\n",
       "  <thead>\n",
       "    <tr style=\"text-align: right;\">\n",
       "      <th></th>\n",
       "      <th>Survived</th>\n",
       "      <th>Pclass</th>\n",
       "      <th>Name</th>\n",
       "      <th>Sex</th>\n",
       "      <th>Age</th>\n",
       "      <th>Siblings_Spouses_Aboard</th>\n",
       "      <th>Parents_Children_Aboard</th>\n",
       "      <th>Fare</th>\n",
       "    </tr>\n",
       "  </thead>\n",
       "  <tbody>\n",
       "    <tr>\n",
       "      <th>0</th>\n",
       "      <td>0</td>\n",
       "      <td>3</td>\n",
       "      <td>Mr. Owen Harris Braund</td>\n",
       "      <td>male</td>\n",
       "      <td>22.0</td>\n",
       "      <td>1</td>\n",
       "      <td>0</td>\n",
       "      <td>7.2500</td>\n",
       "    </tr>\n",
       "    <tr>\n",
       "      <th>1</th>\n",
       "      <td>1</td>\n",
       "      <td>1</td>\n",
       "      <td>Mrs. John Bradley (Florence Briggs Thayer) Cum...</td>\n",
       "      <td>female</td>\n",
       "      <td>38.0</td>\n",
       "      <td>1</td>\n",
       "      <td>0</td>\n",
       "      <td>71.2833</td>\n",
       "    </tr>\n",
       "    <tr>\n",
       "      <th>2</th>\n",
       "      <td>1</td>\n",
       "      <td>3</td>\n",
       "      <td>Miss. Laina Heikkinen</td>\n",
       "      <td>female</td>\n",
       "      <td>26.0</td>\n",
       "      <td>0</td>\n",
       "      <td>0</td>\n",
       "      <td>7.9250</td>\n",
       "    </tr>\n",
       "    <tr>\n",
       "      <th>3</th>\n",
       "      <td>1</td>\n",
       "      <td>1</td>\n",
       "      <td>Mrs. Jacques Heath (Lily May Peel) Futrelle</td>\n",
       "      <td>female</td>\n",
       "      <td>35.0</td>\n",
       "      <td>1</td>\n",
       "      <td>0</td>\n",
       "      <td>53.1000</td>\n",
       "    </tr>\n",
       "    <tr>\n",
       "      <th>4</th>\n",
       "      <td>0</td>\n",
       "      <td>3</td>\n",
       "      <td>Mr. William Henry Allen</td>\n",
       "      <td>male</td>\n",
       "      <td>35.0</td>\n",
       "      <td>0</td>\n",
       "      <td>0</td>\n",
       "      <td>8.0500</td>\n",
       "    </tr>\n",
       "  </tbody>\n",
       "</table>\n",
       "</div>"
      ],
      "text/plain": [
       "   Survived  Pclass                                               Name  \\\n",
       "0         0       3                             Mr. Owen Harris Braund   \n",
       "1         1       1  Mrs. John Bradley (Florence Briggs Thayer) Cum...   \n",
       "2         1       3                              Miss. Laina Heikkinen   \n",
       "3         1       1        Mrs. Jacques Heath (Lily May Peel) Futrelle   \n",
       "4         0       3                            Mr. William Henry Allen   \n",
       "\n",
       "      Sex   Age  Siblings_Spouses_Aboard  Parents_Children_Aboard     Fare  \n",
       "0    male  22.0                        1                        0   7.2500  \n",
       "1  female  38.0                        1                        0  71.2833  \n",
       "2  female  26.0                        0                        0   7.9250  \n",
       "3  female  35.0                        1                        0  53.1000  \n",
       "4    male  35.0                        0                        0   8.0500  "
      ]
     },
     "execution_count": 6,
     "metadata": {},
     "output_type": "execute_result"
    }
   ],
   "source": [
    "df.head()"
   ]
  },
  {
   "cell_type": "markdown",
   "id": "0ba403ad-d5aa-466f-be12-39c0241cd3b7",
   "metadata": {},
   "source": [
    "Name doesn't contribute anything to the model, so it can be dropped. Sex is a categorial variable so it can be converted to ordinal"
   ]
  },
  {
   "cell_type": "code",
   "execution_count": 7,
   "id": "2357862f-3aad-4064-8876-58b28f513592",
   "metadata": {
    "tags": []
   },
   "outputs": [],
   "source": [
    "df = df.drop(\"Name\", axis = 1)"
   ]
  },
  {
   "cell_type": "code",
   "execution_count": 8,
   "id": "fe7406a5-df70-44f3-bc43-070e8c9086cb",
   "metadata": {
    "tags": []
   },
   "outputs": [
    {
     "data": {
      "text/html": [
       "<div>\n",
       "<style scoped>\n",
       "    .dataframe tbody tr th:only-of-type {\n",
       "        vertical-align: middle;\n",
       "    }\n",
       "\n",
       "    .dataframe tbody tr th {\n",
       "        vertical-align: top;\n",
       "    }\n",
       "\n",
       "    .dataframe thead th {\n",
       "        text-align: right;\n",
       "    }\n",
       "</style>\n",
       "<table border=\"1\" class=\"dataframe\">\n",
       "  <thead>\n",
       "    <tr style=\"text-align: right;\">\n",
       "      <th></th>\n",
       "      <th>Survived</th>\n",
       "      <th>Pclass</th>\n",
       "      <th>Sex</th>\n",
       "      <th>Age</th>\n",
       "      <th>Siblings_Spouses_Aboard</th>\n",
       "      <th>Parents_Children_Aboard</th>\n",
       "      <th>Fare</th>\n",
       "    </tr>\n",
       "  </thead>\n",
       "  <tbody>\n",
       "    <tr>\n",
       "      <th>0</th>\n",
       "      <td>0</td>\n",
       "      <td>3</td>\n",
       "      <td>male</td>\n",
       "      <td>22.0</td>\n",
       "      <td>1</td>\n",
       "      <td>0</td>\n",
       "      <td>7.2500</td>\n",
       "    </tr>\n",
       "    <tr>\n",
       "      <th>1</th>\n",
       "      <td>1</td>\n",
       "      <td>1</td>\n",
       "      <td>female</td>\n",
       "      <td>38.0</td>\n",
       "      <td>1</td>\n",
       "      <td>0</td>\n",
       "      <td>71.2833</td>\n",
       "    </tr>\n",
       "    <tr>\n",
       "      <th>2</th>\n",
       "      <td>1</td>\n",
       "      <td>3</td>\n",
       "      <td>female</td>\n",
       "      <td>26.0</td>\n",
       "      <td>0</td>\n",
       "      <td>0</td>\n",
       "      <td>7.9250</td>\n",
       "    </tr>\n",
       "    <tr>\n",
       "      <th>3</th>\n",
       "      <td>1</td>\n",
       "      <td>1</td>\n",
       "      <td>female</td>\n",
       "      <td>35.0</td>\n",
       "      <td>1</td>\n",
       "      <td>0</td>\n",
       "      <td>53.1000</td>\n",
       "    </tr>\n",
       "    <tr>\n",
       "      <th>4</th>\n",
       "      <td>0</td>\n",
       "      <td>3</td>\n",
       "      <td>male</td>\n",
       "      <td>35.0</td>\n",
       "      <td>0</td>\n",
       "      <td>0</td>\n",
       "      <td>8.0500</td>\n",
       "    </tr>\n",
       "  </tbody>\n",
       "</table>\n",
       "</div>"
      ],
      "text/plain": [
       "   Survived  Pclass     Sex   Age  Siblings_Spouses_Aboard  \\\n",
       "0         0       3    male  22.0                        1   \n",
       "1         1       1  female  38.0                        1   \n",
       "2         1       3  female  26.0                        0   \n",
       "3         1       1  female  35.0                        1   \n",
       "4         0       3    male  35.0                        0   \n",
       "\n",
       "   Parents_Children_Aboard     Fare  \n",
       "0                        0   7.2500  \n",
       "1                        0  71.2833  \n",
       "2                        0   7.9250  \n",
       "3                        0  53.1000  \n",
       "4                        0   8.0500  "
      ]
     },
     "execution_count": 8,
     "metadata": {},
     "output_type": "execute_result"
    }
   ],
   "source": [
    "df.head()"
   ]
  },
  {
   "cell_type": "code",
   "execution_count": 10,
   "id": "b8888181-1ea3-4415-8be3-aaa35a9adbf3",
   "metadata": {
    "tags": []
   },
   "outputs": [],
   "source": [
    "# mapping male to 0 and female to 1\n",
    "df['Sex'] = df['Sex'].map({'male': 0, 'female': 1})"
   ]
  },
  {
   "cell_type": "code",
   "execution_count": 13,
   "id": "601fa8c6-7912-42cc-96bd-276628aa2349",
   "metadata": {
    "tags": []
   },
   "outputs": [
    {
     "data": {
      "text/plain": [
       "0    573\n",
       "1    314\n",
       "Name: Sex, dtype: int64"
      ]
     },
     "execution_count": 13,
     "metadata": {},
     "output_type": "execute_result"
    }
   ],
   "source": [
    "df['Sex'].value_counts()"
   ]
  },
  {
   "cell_type": "code",
   "execution_count": 14,
   "id": "77407100-8a92-4780-b3c6-abf7c934554c",
   "metadata": {
    "tags": []
   },
   "outputs": [
    {
     "data": {
      "text/html": [
       "<div>\n",
       "<style scoped>\n",
       "    .dataframe tbody tr th:only-of-type {\n",
       "        vertical-align: middle;\n",
       "    }\n",
       "\n",
       "    .dataframe tbody tr th {\n",
       "        vertical-align: top;\n",
       "    }\n",
       "\n",
       "    .dataframe thead th {\n",
       "        text-align: right;\n",
       "    }\n",
       "</style>\n",
       "<table border=\"1\" class=\"dataframe\">\n",
       "  <thead>\n",
       "    <tr style=\"text-align: right;\">\n",
       "      <th></th>\n",
       "      <th>Survived</th>\n",
       "      <th>Pclass</th>\n",
       "      <th>Sex</th>\n",
       "      <th>Age</th>\n",
       "      <th>Siblings_Spouses_Aboard</th>\n",
       "      <th>Parents_Children_Aboard</th>\n",
       "      <th>Fare</th>\n",
       "    </tr>\n",
       "  </thead>\n",
       "  <tbody>\n",
       "    <tr>\n",
       "      <th>count</th>\n",
       "      <td>887.000000</td>\n",
       "      <td>887.000000</td>\n",
       "      <td>887.000000</td>\n",
       "      <td>887.000000</td>\n",
       "      <td>887.000000</td>\n",
       "      <td>887.000000</td>\n",
       "      <td>887.00000</td>\n",
       "    </tr>\n",
       "    <tr>\n",
       "      <th>mean</th>\n",
       "      <td>0.385569</td>\n",
       "      <td>2.305524</td>\n",
       "      <td>0.354002</td>\n",
       "      <td>29.471443</td>\n",
       "      <td>0.525366</td>\n",
       "      <td>0.383315</td>\n",
       "      <td>32.30542</td>\n",
       "    </tr>\n",
       "    <tr>\n",
       "      <th>std</th>\n",
       "      <td>0.487004</td>\n",
       "      <td>0.836662</td>\n",
       "      <td>0.478480</td>\n",
       "      <td>14.121908</td>\n",
       "      <td>1.104669</td>\n",
       "      <td>0.807466</td>\n",
       "      <td>49.78204</td>\n",
       "    </tr>\n",
       "    <tr>\n",
       "      <th>min</th>\n",
       "      <td>0.000000</td>\n",
       "      <td>1.000000</td>\n",
       "      <td>0.000000</td>\n",
       "      <td>0.420000</td>\n",
       "      <td>0.000000</td>\n",
       "      <td>0.000000</td>\n",
       "      <td>0.00000</td>\n",
       "    </tr>\n",
       "    <tr>\n",
       "      <th>25%</th>\n",
       "      <td>0.000000</td>\n",
       "      <td>2.000000</td>\n",
       "      <td>0.000000</td>\n",
       "      <td>20.250000</td>\n",
       "      <td>0.000000</td>\n",
       "      <td>0.000000</td>\n",
       "      <td>7.92500</td>\n",
       "    </tr>\n",
       "    <tr>\n",
       "      <th>50%</th>\n",
       "      <td>0.000000</td>\n",
       "      <td>3.000000</td>\n",
       "      <td>0.000000</td>\n",
       "      <td>28.000000</td>\n",
       "      <td>0.000000</td>\n",
       "      <td>0.000000</td>\n",
       "      <td>14.45420</td>\n",
       "    </tr>\n",
       "    <tr>\n",
       "      <th>75%</th>\n",
       "      <td>1.000000</td>\n",
       "      <td>3.000000</td>\n",
       "      <td>1.000000</td>\n",
       "      <td>38.000000</td>\n",
       "      <td>1.000000</td>\n",
       "      <td>0.000000</td>\n",
       "      <td>31.13750</td>\n",
       "    </tr>\n",
       "    <tr>\n",
       "      <th>max</th>\n",
       "      <td>1.000000</td>\n",
       "      <td>3.000000</td>\n",
       "      <td>1.000000</td>\n",
       "      <td>80.000000</td>\n",
       "      <td>8.000000</td>\n",
       "      <td>6.000000</td>\n",
       "      <td>512.32920</td>\n",
       "    </tr>\n",
       "  </tbody>\n",
       "</table>\n",
       "</div>"
      ],
      "text/plain": [
       "         Survived      Pclass         Sex         Age  \\\n",
       "count  887.000000  887.000000  887.000000  887.000000   \n",
       "mean     0.385569    2.305524    0.354002   29.471443   \n",
       "std      0.487004    0.836662    0.478480   14.121908   \n",
       "min      0.000000    1.000000    0.000000    0.420000   \n",
       "25%      0.000000    2.000000    0.000000   20.250000   \n",
       "50%      0.000000    3.000000    0.000000   28.000000   \n",
       "75%      1.000000    3.000000    1.000000   38.000000   \n",
       "max      1.000000    3.000000    1.000000   80.000000   \n",
       "\n",
       "       Siblings_Spouses_Aboard  Parents_Children_Aboard       Fare  \n",
       "count               887.000000               887.000000  887.00000  \n",
       "mean                  0.525366                 0.383315   32.30542  \n",
       "std                   1.104669                 0.807466   49.78204  \n",
       "min                   0.000000                 0.000000    0.00000  \n",
       "25%                   0.000000                 0.000000    7.92500  \n",
       "50%                   0.000000                 0.000000   14.45420  \n",
       "75%                   1.000000                 0.000000   31.13750  \n",
       "max                   8.000000                 6.000000  512.32920  "
      ]
     },
     "execution_count": 14,
     "metadata": {},
     "output_type": "execute_result"
    }
   ],
   "source": [
    "df.describe()"
   ]
  },
  {
   "cell_type": "markdown",
   "id": "eca5a019-8b44-493b-9bb2-8127cac827ca",
   "metadata": {
    "tags": []
   },
   "source": [
    "We can see that the std of the columns like Age and Fare are large than others, so we need to normalize these values. Also Survived is out target variable so we will create a separate variable for features and target"
   ]
  },
  {
   "cell_type": "code",
   "execution_count": 37,
   "id": "c357d820-47a3-4c02-8c67-188553a664df",
   "metadata": {
    "tags": []
   },
   "outputs": [
    {
     "data": {
      "text/plain": [
       "Survived                   0\n",
       "Pclass                     0\n",
       "Sex                        0\n",
       "Age                        0\n",
       "Siblings_Spouses_Aboard    0\n",
       "Parents_Children_Aboard    0\n",
       "Fare                       0\n",
       "dtype: int64"
      ]
     },
     "execution_count": 37,
     "metadata": {},
     "output_type": "execute_result"
    }
   ],
   "source": [
    "# check if any column have missing values\n",
    "df.isna().sum()"
   ]
  },
  {
   "cell_type": "markdown",
   "id": "9b6455aa-7d10-43d3-b7ec-5db82f48d7e0",
   "metadata": {},
   "source": [
    "There are no missing values."
   ]
  },
  {
   "cell_type": "code",
   "execution_count": 16,
   "id": "037c331b-194e-49d9-839f-0d384f2bf4f2",
   "metadata": {
    "tags": []
   },
   "outputs": [],
   "source": [
    "X = df.drop(['Survived'], axis = 1)\n",
    "y = df['Survived']"
   ]
  },
  {
   "cell_type": "code",
   "execution_count": 20,
   "id": "a65ae1ec-4dd8-4db5-91d0-a0c3d66c3079",
   "metadata": {
    "tags": []
   },
   "outputs": [
    {
     "data": {
      "text/html": [
       "<div>\n",
       "<style scoped>\n",
       "    .dataframe tbody tr th:only-of-type {\n",
       "        vertical-align: middle;\n",
       "    }\n",
       "\n",
       "    .dataframe tbody tr th {\n",
       "        vertical-align: top;\n",
       "    }\n",
       "\n",
       "    .dataframe thead th {\n",
       "        text-align: right;\n",
       "    }\n",
       "</style>\n",
       "<table border=\"1\" class=\"dataframe\">\n",
       "  <thead>\n",
       "    <tr style=\"text-align: right;\">\n",
       "      <th></th>\n",
       "      <th>0</th>\n",
       "      <th>1</th>\n",
       "      <th>2</th>\n",
       "      <th>3</th>\n",
       "      <th>4</th>\n",
       "      <th>5</th>\n",
       "    </tr>\n",
       "  </thead>\n",
       "  <tbody>\n",
       "    <tr>\n",
       "      <th>count</th>\n",
       "      <td>8.870000e+02</td>\n",
       "      <td>8.870000e+02</td>\n",
       "      <td>8.870000e+02</td>\n",
       "      <td>8.870000e+02</td>\n",
       "      <td>8.870000e+02</td>\n",
       "      <td>8.870000e+02</td>\n",
       "    </tr>\n",
       "    <tr>\n",
       "      <th>mean</th>\n",
       "      <td>-2.403189e-17</td>\n",
       "      <td>2.002657e-17</td>\n",
       "      <td>2.403189e-17</td>\n",
       "      <td>1.602126e-17</td>\n",
       "      <td>-1.702259e-17</td>\n",
       "      <td>1.301727e-16</td>\n",
       "    </tr>\n",
       "    <tr>\n",
       "      <th>std</th>\n",
       "      <td>1.000564e+00</td>\n",
       "      <td>1.000564e+00</td>\n",
       "      <td>1.000564e+00</td>\n",
       "      <td>1.000564e+00</td>\n",
       "      <td>1.000564e+00</td>\n",
       "      <td>1.000564e+00</td>\n",
       "    </tr>\n",
       "    <tr>\n",
       "      <th>min</th>\n",
       "      <td>-1.561277e+00</td>\n",
       "      <td>-7.402655e-01</td>\n",
       "      <td>-2.058350e+00</td>\n",
       "      <td>-4.758557e-01</td>\n",
       "      <td>-4.749808e-01</td>\n",
       "      <td>-6.493034e-01</td>\n",
       "    </tr>\n",
       "    <tr>\n",
       "      <th>25%</th>\n",
       "      <td>-3.653765e-01</td>\n",
       "      <td>-7.402655e-01</td>\n",
       "      <td>-6.533568e-01</td>\n",
       "      <td>-4.758557e-01</td>\n",
       "      <td>-4.749808e-01</td>\n",
       "      <td>-4.900196e-01</td>\n",
       "    </tr>\n",
       "    <tr>\n",
       "      <th>50%</th>\n",
       "      <td>8.305236e-01</td>\n",
       "      <td>-7.402655e-01</td>\n",
       "      <td>-1.042546e-01</td>\n",
       "      <td>-4.758557e-01</td>\n",
       "      <td>-4.749808e-01</td>\n",
       "      <td>-3.587899e-01</td>\n",
       "    </tr>\n",
       "    <tr>\n",
       "      <th>75%</th>\n",
       "      <td>8.305236e-01</td>\n",
       "      <td>1.350867e+00</td>\n",
       "      <td>6.042645e-01</td>\n",
       "      <td>4.299039e-01</td>\n",
       "      <td>-4.749808e-01</td>\n",
       "      <td>-2.347391e-02</td>\n",
       "    </tr>\n",
       "    <tr>\n",
       "      <th>max</th>\n",
       "      <td>8.305236e-01</td>\n",
       "      <td>1.350867e+00</td>\n",
       "      <td>3.580045e+00</td>\n",
       "      <td>6.770221e+00</td>\n",
       "      <td>6.959866e+00</td>\n",
       "      <td>9.647949e+00</td>\n",
       "    </tr>\n",
       "  </tbody>\n",
       "</table>\n",
       "</div>"
      ],
      "text/plain": [
       "                  0             1             2             3             4  \\\n",
       "count  8.870000e+02  8.870000e+02  8.870000e+02  8.870000e+02  8.870000e+02   \n",
       "mean  -2.403189e-17  2.002657e-17  2.403189e-17  1.602126e-17 -1.702259e-17   \n",
       "std    1.000564e+00  1.000564e+00  1.000564e+00  1.000564e+00  1.000564e+00   \n",
       "min   -1.561277e+00 -7.402655e-01 -2.058350e+00 -4.758557e-01 -4.749808e-01   \n",
       "25%   -3.653765e-01 -7.402655e-01 -6.533568e-01 -4.758557e-01 -4.749808e-01   \n",
       "50%    8.305236e-01 -7.402655e-01 -1.042546e-01 -4.758557e-01 -4.749808e-01   \n",
       "75%    8.305236e-01  1.350867e+00  6.042645e-01  4.299039e-01 -4.749808e-01   \n",
       "max    8.305236e-01  1.350867e+00  3.580045e+00  6.770221e+00  6.959866e+00   \n",
       "\n",
       "                  5  \n",
       "count  8.870000e+02  \n",
       "mean   1.301727e-16  \n",
       "std    1.000564e+00  \n",
       "min   -6.493034e-01  \n",
       "25%   -4.900196e-01  \n",
       "50%   -3.587899e-01  \n",
       "75%   -2.347391e-02  \n",
       "max    9.647949e+00  "
      ]
     },
     "execution_count": 20,
     "metadata": {},
     "output_type": "execute_result"
    }
   ],
   "source": [
    "# Normalization\n",
    "X_standard = StandardScaler().fit_transform(X)\n",
    "pd.DataFrame(X_standard).describe()"
   ]
  },
  {
   "cell_type": "markdown",
   "id": "4bd3937a-92f5-4f01-912a-45381dca9c69",
   "metadata": {},
   "source": [
    "Now all the vales are within the range"
   ]
  },
  {
   "cell_type": "code",
   "execution_count": 21,
   "id": "2fc3aa02-5cf3-4b80-be2b-1cf2b0040e0a",
   "metadata": {
    "tags": []
   },
   "outputs": [],
   "source": [
    "# Create training and test dataset\n",
    "X_train, X_test, y_train, y_test = train_test_split(X, y, test_size =0.2, random_state = 42)"
   ]
  },
  {
   "cell_type": "markdown",
   "id": "84f0c13b-8afd-434d-9970-8b249745805f",
   "metadata": {},
   "source": [
    "### Logistic Regression"
   ]
  },
  {
   "cell_type": "code",
   "execution_count": 22,
   "id": "b6c9191a-911f-4185-bc09-a844d79fb1bc",
   "metadata": {
    "tags": []
   },
   "outputs": [
    {
     "data": {
      "text/plain": [
       "GridSearchCV(estimator=LogisticRegression(random_state=42),\n",
       "             param_grid={'penalty': ['none', 'l2']})"
      ]
     },
     "execution_count": 22,
     "metadata": {},
     "output_type": "execute_result"
    }
   ],
   "source": [
    "# Create list of hyperparameters\n",
    "logistic_parameters = {'penalty': ['none', 'l2']}\n",
    "regressor = LogisticRegression(random_state = 42)\n",
    "regressor_grid = GridSearchCV(regressor, logistic_parameters)\n",
    "regressor_grid.fit(X_train, y_train)"
   ]
  },
  {
   "cell_type": "code",
   "execution_count": 25,
   "id": "a0927e17-9904-446c-aee1-fe74fb2dda4c",
   "metadata": {
    "tags": []
   },
   "outputs": [
    {
     "name": "stdout",
     "output_type": "stream",
     "text": [
      "0.8138148037159125\n",
      "0.7471910112359551\n"
     ]
    }
   ],
   "source": [
    "best_params = regressor_grid.best_params_\n",
    "print(regressor_grid.best_score_)\n",
    "print(regressor_grid.best_estimator_.score(X_test, y_test))"
   ]
  },
  {
   "cell_type": "code",
   "execution_count": 36,
   "id": "26e26be2-8bae-4c28-97d5-b5bb5ab53289",
   "metadata": {
    "tags": []
   },
   "outputs": [
    {
     "name": "stdout",
     "output_type": "stream",
     "text": [
      "The accuracy of Logistic Regression is 0.75 and recall is 0.55\n"
     ]
    }
   ],
   "source": [
    "# Train Logistic Regression model using the best parameters\n",
    "logistic_regressor = LogisticRegression(**best_params).fit(X_train, y_train)\n",
    "logistic_pred = logistic_regressor.predict(X_test)\n",
    "logistic_accuracy = accuracy_score(y_test, logistic_pred)\n",
    "logistic_recall = recall_score(y_test, logistic_pred)\n",
    "print(\"The accuracy of Logistic Regression is {:.2f} and recall is {:.2f}\".format(logistic_accuracy, logistic_recall))"
   ]
  },
  {
   "cell_type": "markdown",
   "id": "cb5c9edf-179e-46bb-9f3d-c5c33d9e1210",
   "metadata": {},
   "source": [
    "We weill focus mostly on recall since we want to correclty predict the survivals."
   ]
  },
  {
   "cell_type": "code",
   "execution_count": null,
   "id": "73aeca2c-45e5-4eda-adec-296449c8ff60",
   "metadata": {},
   "outputs": [],
   "source": []
  }
 ],
 "metadata": {
  "kernelspec": {
   "display_name": "Python 3 (ipykernel)",
   "language": "python",
   "name": "python3"
  },
  "language_info": {
   "codemirror_mode": {
    "name": "ipython",
    "version": 3
   },
   "file_extension": ".py",
   "mimetype": "text/x-python",
   "name": "python",
   "nbconvert_exporter": "python",
   "pygments_lexer": "ipython3",
   "version": "3.7.9"
  }
 },
 "nbformat": 4,
 "nbformat_minor": 5
}
